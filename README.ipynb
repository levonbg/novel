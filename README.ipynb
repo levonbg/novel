{
 "cells": [
  {
   "cell_type": "markdown",
   "metadata": {},
   "source": [
    "# 我的第一篇文章\n",
    "\n",
    "我把文章写在这里 [this blog post][1].\n",
    "\n",
    "我打算用这个写 `分布式` 小说\n",
    "关于小说的`版权`我使用 `GPL v3` (大家都可以写，可以改，但是修改了以后要把修改的内容公开) 下面讲讲好处：\n",
    "\n",
    "* 小说的章节类似于版本概念\n",
    "\n",
    "* 小说情节有分歧的地方，可以开分支(比如《神雕侠侣》在小龙女被强奸的版本上开一个分支，说她没有被强奸~然后按新的剧情往后写)\n",
    "\n",
    "* 小说可以一直写下去，哪怕作者不在了\n",
    "\n",
    "我希望创立一个永远没有结局的小说！\n",
    "我希望小说有个大家都喜欢的剧情！所以提供了开分支的功能，在剧情分歧的时候。\n",
    "我希望可以像游戏一样，提供选项给读者，读者根据自己的选择阅读到完全不同的剧情(比如读到小龙女被强奸，会有一个对话框，问yes or no，你的选择能决定她会不会被强奸)。\n",
    "\n",
    "\n",
    "[1]: https://nbviewer.jupyter.org/github/levonbg/\n"
   ]
  },
  {
   "cell_type": "markdown",
   "metadata": {},
   "source": [
    "# notebook使用笔记\n",
    "\n",
    "* 点击`esc`进入command模式\n",
    "* `command` `Y` 设置当前单元格为code模式\n",
    "* `command` `M` 设置当前单元格为Markdown模式\n",
    "* `ctrl` `enter` 也就是回车，执行当前单元格\n",
    "* `enter` 编辑当前单元格\n",
    "\n",
    "---\n",
    "## 待办事项\n",
    "\n",
    "* 阅读Linux内核，x86架构， cgroups，kvm，selinux，各种文件系统(btrfs)\n",
    "* 阅读virtualBox， ring0以及虚拟化相关知识，偏驱动\n",
    "* 阅读firefox， xpcom架构编程，排版引擎\n",
    "* 阅读nginx， 事件驱动，内存屏障\n",
    "* 阅读ffmpeg， SIMD(SSE, AVX)，CUDA等硬件加速\n",
    "* 阅读Tesseract-OCR， 学习OpenMP，OpenCL等\n",
    "* 阅读Caffe/Caffe2， 学习C++11，Python， Pybind11， numpy， pandas， cuda， mpi， mkl等硬件加速技术\n",
    "* 阅读keras里的VGG16实现，学习Resnet等\n",
    "\n",
    "---\n",
    "工具：\n",
    "* SlickEdit\n",
    "* Visual Studio Code\n",
    "* anaconda\n",
    "* matlab"
   ]
  }
 ],
 "metadata": {
  "kernelspec": {
   "display_name": "Python 2",
   "language": "python",
   "name": "python2"
  },
  "language_info": {
   "codemirror_mode": {
    "name": "ipython",
    "version": 2
   },
   "file_extension": ".py",
   "mimetype": "text/x-python",
   "name": "python",
   "nbconvert_exporter": "python",
   "pygments_lexer": "ipython2",
   "version": "2.7.13"
  }
 },
 "nbformat": 4,
 "nbformat_minor": 2
}
